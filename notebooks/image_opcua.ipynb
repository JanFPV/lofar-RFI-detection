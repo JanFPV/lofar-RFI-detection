{
 "cells": [
  {
   "cell_type": "markdown",
   "metadata": {},
   "source": [
    "# LOFAR OPC UA single station imaging"
   ]
  },
  {
   "cell_type": "code",
   "execution_count": null,
   "metadata": {},
   "outputs": [],
   "source": [
    "import numpy as np\n",
    "import os\n",
    "import re\n",
    "import getpass\n",
    "import datetime\n",
    "import matplotlib.pyplot as plt\n",
    "\n",
    "import sys\n",
    "sys.path.append('..')"
   ]
  },
  {
   "cell_type": "code",
   "execution_count": null,
   "metadata": {},
   "outputs": [],
   "source": [
    "from lofarantpos.db import LofarAntennaDatabase\n",
    "from lofarimaging import read_acm_cube, get_station_type, make_xst_plots"
   ]
  },
  {
   "cell_type": "code",
   "execution_count": null,
   "metadata": {},
   "outputs": [],
   "source": [
    "%load_ext autoreload\n",
    "%autoreload 2"
   ]
  },
  {
   "cell_type": "code",
   "execution_count": null,
   "metadata": {},
   "outputs": [],
   "source": [
    "db = LofarAntennaDatabase()"
   ]
  },
  {
   "cell_type": "code",
   "execution_count": null,
   "metadata": {},
   "outputs": [],
   "source": [
    "# Offline alternative\n",
    "username = getpass.getuser()\n",
    "data_dir = f\"/home/{username}/Documents/LV614_image_data/\"\n",
    "caltable_dir = f\"/home/{username}/Documents/LV614_image_data/CalTables/\"\n",
    "caltable_dir = \"../CalTables/\"\n",
    "\n",
    "output_dir = \"./results_auto\"\n",
    "\n",
    "# Observation that works\n",
    "obs_dir = data_dir + \"sess_sid20230111T071252_LV614/scan_59955.30061/LV614_20230111_071256_spw3_sb51_461_int1_dur24300_dir0,0,SUN_xst/\"\n",
    "xst_filename = obs_dir + \"20230111_135702_xst.dat\"\n",
    "#xst_filename = obs_dir + \"20230111_071300_xst.dat\"\n",
    "\n",
    "# Another observation\n",
    "#obs_dir = data_dir + \"\"\n",
    "#xst_filename = obs_dir + \"\"\n",
    "\n",
    "# Automate filename to make a video or look for interference\n",
    "\n",
    "# Read subband from .h file\n",
    "\n",
    "\n",
    "# Assuming h_filename is already defined\n",
    "h_filename = xst_filename.replace(\".dat\", \".h\")\n",
    "\n",
    "# Read the .h file\n",
    "with open(h_filename, 'r') as file:\n",
    "    content = file.read()\n",
    "\n",
    "# Find the subband number using regex\n",
    "match = re.search(r'--xcsubband=(\\d+)', content)\n",
    "if match:\n",
    "    subband = int(match.group(1))\n",
    "else:\n",
    "    subband = None  # or handle the case where the subband is not found\n",
    "\n",
    "print(\"Subband: \", subband)"
   ]
  },
  {
   "cell_type": "code",
   "execution_count": null,
   "metadata": {},
   "outputs": [],
   "source": [
    "station_name = \"LV614\"\n",
    "integration_time_s = 2\n",
    "rcu_mode = 3\n",
    "height = 1.5\n",
    "station_type = get_station_type(station_name)\n",
    "obsdatestr, obstimestr, *_ = os.path.basename(xst_filename).rstrip(\".dat\").split(\"_\")\n",
    "obstime = datetime.datetime.strptime(obsdatestr + \":\" + obstimestr, '%Y%m%d:%H%M%S')\n",
    "visibilities = read_acm_cube(xst_filename, station_type)[0]\n",
    "\n",
    "\n",
    "# sky_fig, ground_fig, leaflet_map = make_xst_plots(cube[0, :, :], station_name, obstime, subband, rcu_mode, subtract=[\"Cyg A\",\"Cas A\", \"Sun\"])\n",
    "sky_fig, ground_fig, leaflet_map = make_xst_plots(visibilities, station_name, obstime, subband, rcu_mode, caltable_dir=caltable_dir, map_zoom=18, outputpath=output_dir, mark_max_power=True, height=height)\n"
   ]
  },
  {
   "cell_type": "code",
   "execution_count": null,
   "metadata": {},
   "outputs": [],
   "source": [
    "ground_fig"
   ]
  },
  {
   "cell_type": "code",
   "execution_count": null,
   "metadata": {},
   "outputs": [],
   "source": [
    "sky_fig"
   ]
  },
  {
   "cell_type": "code",
   "execution_count": null,
   "metadata": {},
   "outputs": [],
   "source": [
    "leaflet_map"
   ]
  }
 ],
 "metadata": {
  "kernelspec": {
   "display_name": "venv",
   "language": "python",
   "name": "python3"
  },
  "language_info": {
   "codemirror_mode": {
    "name": "ipython",
    "version": 3
   },
   "file_extension": ".py",
   "mimetype": "text/x-python",
   "name": "python",
   "nbconvert_exporter": "python",
   "pygments_lexer": "ipython3",
   "version": "3.12.10"
  }
 },
 "nbformat": 4,
 "nbformat_minor": 4
}
