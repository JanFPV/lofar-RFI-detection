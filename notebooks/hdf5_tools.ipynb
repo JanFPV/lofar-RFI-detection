{
 "cells": [
  {
   "cell_type": "code",
   "execution_count": null,
   "metadata": {},
   "outputs": [],
   "source": [
    "from lofarimaging import *"
   ]
  },
  {
   "cell_type": "code",
   "execution_count": null,
   "metadata": {},
   "outputs": [],
   "source": [
    "import matplotlib.pyplot as plt\n",
    "import matplotlib.dates as mdates\n",
    "import matplotlib.ticker\n",
    "import matplotlib.artist\n",
    "from datetime import datetime\n",
    "import numpy as np\n",
    "from datetime import datetime\n",
    "import h5py"
   ]
  },
  {
   "cell_type": "code",
   "execution_count": null,
   "metadata": {},
   "outputs": [],
   "source": [
    "from tqdm.autonotebook import tqdm"
   ]
  },
  {
   "cell_type": "code",
   "execution_count": null,
   "metadata": {},
   "outputs": [],
   "source": [
    "%load_ext autoreload\n",
    "%autoreload 2"
   ]
  },
  {
   "cell_type": "code",
   "execution_count": null,
   "metadata": {},
   "outputs": [],
   "source": [
    "h5 = h5py.File(\"results/results.h5\", \"r\")"
   ]
  },
  {
   "cell_type": "markdown",
   "metadata": {},
   "source": [
    "## Overview plot with times a pixel is the brightest"
   ]
  },
  {
   "cell_type": "code",
   "execution_count": null,
   "metadata": {},
   "outputs": [],
   "source": [
    "def pixelcoord_to_m_coord(pixel_coord, shape, extent):\n",
    "    \"\"\"Convert pixel coordinate (y, x) to coordinates in metres x, y\"\"\"\n",
    "    (y, x) = pixel_coord\n",
    "    x_0, x_1, y_0, y_1 = extent\n",
    "    x_m = x_0 + (x / shape[1]) * (x_1 - x_0)\n",
    "    y_m = y_0 + (y / shape[1]) * (y_1 - y_0)\n",
    "    return x_m, y_m"
   ]
  },
  {
   "cell_type": "code",
   "execution_count": null,
   "metadata": {},
   "outputs": [],
   "source": [
    "# These coordinates were picked as the maximum pixel in some observations that show RFI. See section below.\n",
    "hot_coords = {}\n",
    "hot_coords[\"RS210\"] = (1,113)\n",
    "hot_coords[\"CS103\"] = (241, 150)\n",
    "hot_coords[\"RS208\"] = (59, 121)"
   ]
  },
  {
   "cell_type": "code",
   "execution_count": null,
   "metadata": {},
   "outputs": [],
   "source": [
    "dateformatter_with_date = mdates.DateFormatter(\"%Y-%m-%d %H:%M\")\n",
    "dateformatter_without_date = mdates.DateFormatter(\"%H:%M\")\n",
    "\n",
    "def format_date(x, pos=None):\n",
    "    if x % 1 in (0, 0.5):\n",
    "        return dateformatter_with_date.format_data(x)\n",
    "    else:\n",
    "        return dateformatter_without_date.format_data(x)"
   ]
  },
  {
   "cell_type": "code",
   "execution_count": null,
   "metadata": {},
   "outputs": [],
   "source": [
    "station_name = \"RS208\"\n",
    "\n",
    "obstimes = {}\n",
    "coefs = {}"
   ]
  },
  {
   "cell_type": "code",
   "execution_count": null,
   "metadata": {},
   "outputs": [],
   "source": [
    "subband = 150"
   ]
  },
  {
   "cell_type": "code",
   "execution_count": null,
   "metadata": {},
   "outputs": [],
   "source": [
    "for subband in tqdm([150, 250, 350, 375, 400, 425]):\n",
    "    all_obsnums = get_obsnums(h5, station_name=station_name, subband=subband, rcu_modes=[1,2],\n",
    "                              extent=[-300,300,-300,300])\n",
    "\n",
    "    obstimes[subband] = []\n",
    "    coefs[subband] = []\n",
    "    for obs in tqdm(all_obsnums, leave=False):\n",
    "        data = h5[obs][\"ground_images\"][\"ground_img000\"].value\n",
    "        obstime = datetime.strptime(h5[obs].attrs[\"obstime\"], \"%Y-%m-%d %H:%M:%S\")\n",
    "        coef = (data[hot_coords[station_name]] - np.min(data)) / (np.max(data) - np.min(data))\n",
    "        obstimes[subband].append(obstime)\n",
    "        coefs[subband].append(coef)"
   ]
  },
  {
   "cell_type": "code",
   "execution_count": null,
   "metadata": {},
   "outputs": [],
   "source": [
    "coords = pixelcoord_to_m_coord(hot_coords[station_name], (300, 300), [-300, 300, -300, 300])\n",
    "fig, axes = plt.subplots(nrows=len(coefs), figsize=(30, len(coefs)), sharex=True)\n",
    "axes[0].set_title(f\"Localized RFI for station {station_name} at x={coords[0]:.0f}m, y={coords[1]:.0f}m\\n\", size=24)\n",
    "for subbandnr, subband in enumerate(reversed(sorted(coefs))):\n",
    "    axes[subbandnr].plot(obstimes[subband], coefs[subband], 'k.')\n",
    "    axes[subbandnr].set_ylim(-.1, 1.1);\n",
    "    freq = freq_from_sb(subband, 1)\n",
    "    axes[subbandnr].set_ylabel(f\"Subband {subband}\\n({freq/1e6:.1f} MHz)\", rotation=0, size=14, labelpad=100, horizontalalignment=\"left\",\n",
    "                              verticalalignment=\"center\")\n",
    "    axes[subbandnr].set_yticks([])\n",
    "    axes[subbandnr].xaxis.set_major_formatter(matplotlib.ticker.FuncFormatter(format_date))\n",
    "    axes[subbandnr].xaxis.set_ticks_position('none')\n",
    "    axes[subbandnr].xaxis.set_major_locator(mdates.HourLocator(byhour=[0, 6, 12, 18]))\n",
    "    axes[subbandnr].xaxis.set_minor_locator(mdates.HourLocator(byhour=range(0,24,2)))\n",
    "    axes[subbandnr].grid(color='gray', which='major', linewidth=2)\n",
    "    axes[subbandnr].grid(color='lightgray', which='minor')\n",
    "axes[subbandnr].set_xlabel(\"Time (UTC)\", size=14)\n",
    "fig.patch.set_facecolor('white')"
   ]
  },
  {
   "cell_type": "markdown",
   "metadata": {},
   "source": [
    "## Quick look"
   ]
  },
  {
   "cell_type": "markdown",
   "metadata": {},
   "source": [
    "Find any observation which shows the RFI:"
   ]
  },
  {
   "cell_type": "code",
   "execution_count": null,
   "metadata": {},
   "outputs": [],
   "source": [
    "from ipywidgets import interact"
   ]
  },
  {
   "cell_type": "code",
   "execution_count": null,
   "metadata": {},
   "outputs": [],
   "source": [
    "station_name = \"CS103\"\n",
    "subband = 375"
   ]
  },
  {
   "cell_type": "code",
   "execution_count": null,
   "metadata": {},
   "outputs": [],
   "source": [
    "all_obsnums = get_obsnums(h5, station_name=station_name, subband=subband,\n",
    "                          extent=[-300, 300, -300, 300])"
   ]
  },
  {
   "cell_type": "code",
   "execution_count": null,
   "metadata": {},
   "outputs": [],
   "source": [
    "def plot_obs(obs_idx):\n",
    "    obs = all_obsnums[obs_idx]\n",
    "    ground_img = h5[obs][\"ground_images\"][\"ground_img000\"]\n",
    "    data = ground_img.value\n",
    "    plt.imshow(ground_img.value, origin='lower')#, vmin=9.5e5, vmax=11.8e5)\n",
    "    plt.colorbar()\n",
    "    maxpos = np.unravel_index(np.argmax(data), data.shape)\n",
    "    plt.title(f\"{obs}: {maxpos}\")\n",
    "    plt.show();"
   ]
  },
  {
   "cell_type": "code",
   "execution_count": null,
   "metadata": {},
   "outputs": [],
   "source": [
    "interact(plot_obs, obs_idx=(0, len(all_obsnums)-1));"
   ]
  },
  {
   "cell_type": "markdown",
   "metadata": {},
   "source": [
    "## Make movie"
   ]
  },
  {
   "cell_type": "code",
   "execution_count": null,
   "metadata": {},
   "outputs": [],
   "source": [
    "import matplotlib.animation as animation"
   ]
  },
  {
   "cell_type": "code",
   "execution_count": null,
   "metadata": {},
   "outputs": [],
   "source": [
    "station_name = \"CS103\""
   ]
  },
  {
   "cell_type": "code",
   "execution_count": null,
   "metadata": {},
   "outputs": [],
   "source": [
    "subband = 375"
   ]
  },
  {
   "cell_type": "code",
   "execution_count": null,
   "metadata": {},
   "outputs": [],
   "source": [
    "rcu_modes = [1, 2]"
   ]
  },
  {
   "cell_type": "code",
   "execution_count": null,
   "metadata": {},
   "outputs": [],
   "source": [
    "all_obsnums = get_obsnums(h5, station_name=station_name, subband=subband, rcu_modes=rcu_modes, extent=[-300, 300, -300, 300])"
   ]
  },
  {
   "cell_type": "code",
   "execution_count": null,
   "metadata": {},
   "outputs": [],
   "source": [
    "obsnum = all_obsnums[0]"
   ]
  },
  {
   "cell_type": "code",
   "execution_count": null,
   "metadata": {},
   "outputs": [],
   "source": [
    "obs_h5 = h5[obsnum]\n",
    "grounddata_h5 = obs_h5[\"ground_images\"][\"ground_img000\"]\n",
    "extent = grounddata_h5.attrs[\"extent\"]\n",
    "extent_lonlat = grounddata_h5.attrs[\"extent_lonlat\"]\n",
    "skydata_h5 = obs_h5[\"sky_img\"]"
   ]
  },
  {
   "cell_type": "code",
   "execution_count": null,
   "metadata": {},
   "outputs": [],
   "source": [
    "subband = obs_h5.attrs[\"subband\"]\n",
    "freq = obs_h5.attrs[\"frequency\"]\n",
    "obstime = obs_h5.attrs[\"obstime\"]"
   ]
  },
  {
   "cell_type": "code",
   "execution_count": null,
   "metadata": {},
   "outputs": [],
   "source": [
    "sky_fig = make_sky_plot(skydata_h5.value, {}, title=f\"Sky image for {station_name}\", subtitle=f\"SB {subband} ({freq / 1e6:.1f} MHz), {str(obstime)[:16]}\");"
   ]
  },
  {
   "cell_type": "code",
   "execution_count": null,
   "metadata": {},
   "outputs": [],
   "source": [
    "t = tqdm(total=len(all_obsnums))\n",
    "\n",
    "def update_img(frame_nr):\n",
    "    im = sky_fig.get_children()[1].images[0]\n",
    "    obs_h5 = h5[all_obsnums[frame_nr]]\n",
    "    skydata_h5 = obs_h5[\"sky_img\"]\n",
    "    obstime = obs_h5.attrs[\"obstime\"]\n",
    "    im.set_data(skydata_h5.value)\n",
    "    im.set_clim(np.min(skydata_h5.value), np.max(skydata_h5.value))\n",
    "    subtitle = [child for child in sky_fig.get_children()[1].get_children()\n",
    "                if isinstance(child, matplotlib.text.Text) and \"SB \" in child.get_text()][0]\n",
    "    subtitle.set_text(f\"SB {subband} ({freq / 1e6:.1f} MHz), {str(obstime)[:16]}\")\n",
    "    t.update()\n",
    "\n",
    "ani = animation.FuncAnimation (sky_fig, update_img, len(all_obsnums), interval=30, blit=False)\n",
    "writer = animation.writers['ffmpeg'](fps=10, bitrate=800)\n",
    "\n",
    "ani.save(f'sky_movie_{station_name}_SB{subband}.mp4', writer=writer, dpi=sky_fig.dpi)\n",
    "t.close()"
   ]
  },
  {
   "cell_type": "code",
   "execution_count": null,
   "metadata": {},
   "outputs": [],
   "source": [
    "background_map = get_map(*extent_lonlat)"
   ]
  },
  {
   "cell_type": "code",
   "execution_count": null,
   "metadata": {},
   "outputs": [],
   "source": [
    "ground_fig, data = make_ground_plot(grounddata_h5.value, background_map, extent, title=f\"Near field image for {station_name}\",\n",
    "                                    subtitle=f\"SB {subband} ({freq / 1e6:.1f} MHz), {str(obstime)[:16]}\", draw_contours=False)\n",
    "\n",
    "t = tqdm(total=len(all_obsnums)) # Initialise\n",
    "\n",
    "def update_img(frame_nr):\n",
    "    im = ground_fig.get_children()[1].images[1]\n",
    "    obs_h5 = h5[all_obsnums[frame_nr]]\n",
    "    grounddata_h5 = obs_h5[\"ground_images\"][\"ground_img000\"]\n",
    "    obstime = obs_h5.attrs[\"obstime\"]\n",
    "    im.set_data(grounddata_h5.value)\n",
    "    im.set_clim(np.min(grounddata_h5.value), np.max(grounddata_h5.value))\n",
    "    subtitle = [child for child in ground_fig.get_children()[1].get_children()\n",
    "                if isinstance(child, matplotlib.text.Text) and \"SB \" in child.get_text()][0]\n",
    "    subtitle.set_text(f\"SB {subband} ({freq / 1e6:.1f} MHz), {str(obstime)[:16]}\")\n",
    "    t.update()\n",
    "    return im\n",
    "\n",
    "ani = animation.FuncAnimation (ground_fig, update_img, len(all_obsnums), interval=30)\n",
    "writer = animation.writers['ffmpeg'](fps=10, bitrate=500)\n",
    "ani.save(f'nearfield_movie_{station_name}.mp4', writer=writer, dpi=ground_fig.dpi)\n",
    "t.close()"
   ]
  },
  {
   "cell_type": "markdown",
   "metadata": {},
   "source": [
    "## Find one timeslot"
   ]
  },
  {
   "cell_type": "code",
   "execution_count": null,
   "metadata": {},
   "outputs": [],
   "source": [
    "from ipywidgets import interact"
   ]
  },
  {
   "cell_type": "code",
   "execution_count": null,
   "metadata": {},
   "outputs": [],
   "source": [
    "all_obsnums = get_obsnums(h5, start_date=datetime(2020, 4, 4, 21, 43), end_date=datetime(2020, 4, 4, 21, 46))"
   ]
  },
  {
   "cell_type": "code",
   "execution_count": null,
   "metadata": {},
   "outputs": [],
   "source": [
    "all_obsnums"
   ]
  },
  {
   "cell_type": "code",
   "execution_count": null,
   "metadata": {},
   "outputs": [],
   "source": [
    "from astropy.coordinates import SkyCoord, get_sun, EarthLocation, GCRS, AltAz\n",
    "import astropy.units as u\n",
    "from astropy.time import Time"
   ]
  },
  {
   "cell_type": "code",
   "execution_count": null,
   "metadata": {},
   "outputs": [],
   "source": [
    "from lofarantpos.db import LofarAntennaDatabase"
   ]
  },
  {
   "cell_type": "code",
   "execution_count": null,
   "metadata": {},
   "outputs": [],
   "source": [
    "db = LofarAntennaDatabase()"
   ]
  },
  {
   "cell_type": "code",
   "execution_count": null,
   "metadata": {},
   "outputs": [],
   "source": [
    "obstime_astropy = Time(h5[\"obs008081\"].attrs['obstime'])"
   ]
  },
  {
   "cell_type": "code",
   "execution_count": null,
   "metadata": {},
   "outputs": [],
   "source": [
    "station_earthlocation = EarthLocation.from_geocentric(*(db.phase_centres[\"RS210LBA\"] * u.m))"
   ]
  },
  {
   "cell_type": "code",
   "execution_count": null,
   "metadata": {},
   "outputs": [],
   "source": [
    "zenith = AltAz(az=0 * u.deg, alt=90 * u.deg, obstime=obstime_astropy,\n",
    "                   location=station_earthlocation).transform_to(GCRS)"
   ]
  },
  {
   "cell_type": "code",
   "execution_count": null,
   "metadata": {},
   "outputs": [],
   "source": [
    "marked_bodies = {\n",
    "    'Cas A': SkyCoord(ra=350.85 * u.deg, dec=58.815 * u.deg),\n",
    "    'Cyg A': SkyCoord(ra=299.868 * u.deg, dec=40.734 * u.deg),\n",
    "    #        'Per A': SkyCoord.from_name(\"Perseus A\"),\n",
    "    #        'Her A': SkyCoord.from_name(\"Hercules A\"),\n",
    "    #        'Cen A': SkyCoord.from_name(\"Centaurus A\"),\n",
    "    #        '?': SkyCoord.from_name(\"J101415.9+105106\"),\n",
    "    #        '3C295': SkyCoord.from_name(\"3C295\"),\n",
    "    #        'Moon': get_moon(obstime_astropy, location=station_earthlocation).transform_to(GCRS),\n",
    "    'Sun': get_sun(obstime_astropy)\n",
    "    #        '3C196': SkyCoord.from_name(\"3C196\")\n",
    "}\n",
    "marked_bodies_lmn = {}"
   ]
  },
  {
   "cell_type": "code",
   "execution_count": null,
   "metadata": {},
   "outputs": [],
   "source": [
    "for body_name, body_coord in marked_bodies.items():\n",
    "    # print(body_name, body_coord.separation(zenith), body_coord.separation(zenith))\n",
    "    if body_coord.transform_to(AltAz(location=station_earthlocation, obstime=obstime_astropy)).alt > 0:\n",
    "        marked_bodies_lmn[body_name] = skycoord_to_lmn(marked_bodies[body_name], zenith)"
   ]
  },
  {
   "cell_type": "code",
   "execution_count": null,
   "metadata": {},
   "outputs": [],
   "source": [
    "def make_plot(num):\n",
    "    return make_sky_plot(h5[num][\"sky_img\"].value, marked_bodies_lmn, vmin=2.3e5, vmax=2.6e5);"
   ]
  },
  {
   "cell_type": "code",
   "execution_count": null,
   "metadata": {},
   "outputs": [],
   "source": [
    "interact(make_plot, num=[f\"obs008{num:03d}\" for num in list(range(81-3*18, 81+3*18, 18))]);"
   ]
  },
  {
   "cell_type": "code",
   "execution_count": null,
   "metadata": {},
   "outputs": [],
   "source": [
    "h5.close()"
   ]
  },
  {
   "cell_type": "markdown",
   "metadata": {},
   "source": [
    "## Re-image at different resolution"
   ]
  },
  {
   "cell_type": "code",
   "execution_count": null,
   "metadata": {},
   "outputs": [],
   "source": [
    "h5 = h5py.File(\"results/oneobs.h5\", \"r\")"
   ]
  },
  {
   "cell_type": "code",
   "execution_count": null,
   "metadata": {},
   "outputs": [],
   "source": [
    "station_name = \"RS208\""
   ]
  },
  {
   "cell_type": "code",
   "execution_count": null,
   "metadata": {},
   "outputs": [],
   "source": [
    "subband = 425"
   ]
  },
  {
   "cell_type": "code",
   "execution_count": null,
   "metadata": {},
   "outputs": [],
   "source": [
    "rcu_modes = [1, 2]"
   ]
  },
  {
   "cell_type": "code",
   "execution_count": null,
   "metadata": {},
   "outputs": [],
   "source": [
    "start_time = datetime.strptime(\"2020-04-23 18:15:00\", \"%Y-%m-%d %H:%M:%S\")\n",
    "end_time = datetime.strptime(\"2020-04-23 18:16:00\", \"%Y-%m-%d %H:%M:%S\")"
   ]
  },
  {
   "cell_type": "code",
   "execution_count": null,
   "metadata": {},
   "outputs": [],
   "source": [
    "all_obsnums = get_obsnums(h5, station_name=station_name, subband=subband, start_date=start_time, end_date=end_time)"
   ]
  },
  {
   "cell_type": "code",
   "execution_count": null,
   "metadata": {},
   "outputs": [],
   "source": [
    "obsnum = all_obsnums[0]"
   ]
  },
  {
   "cell_type": "code",
   "execution_count": null,
   "metadata": {},
   "outputs": [],
   "source": [
    "from lofarantpos.db import LofarAntennaDatabase\n",
    "db = LofarAntennaDatabase()"
   ]
  },
  {
   "cell_type": "code",
   "execution_count": null,
   "metadata": {},
   "outputs": [],
   "source": [
    "visibilities = h5[obsnum]['calibrated_data'].value\n",
    "visibilities_xx = visibilities[0::2, 0::2]\n",
    "visibilities_yy = visibilities[1::2, 1::2]\n",
    "# Stokes I\n",
    "visibilities_stokesI = visibilities_xx + visibilities_yy\n",
    "baseline_indices = np.tril_indices(visibilities_stokesI.shape[0])\n",
    "visibilities_selection = visibilities_stokesI[baseline_indices]"
   ]
  },
  {
   "cell_type": "code",
   "execution_count": null,
   "metadata": {},
   "outputs": [],
   "source": [
    "get_full_station_name(station_name, h5[obsnum].attrs['rcu_mode'])"
   ]
  },
  {
   "cell_type": "code",
   "execution_count": null,
   "metadata": {},
   "outputs": [],
   "source": [
    "extent = [0, 2600, -1700, 0]"
   ]
  },
  {
   "cell_type": "code",
   "execution_count": null,
   "metadata": {},
   "outputs": [],
   "source": [
    "extent_lonlat = get_extent_lonlat(extent, get_full_station_name(station_name, h5[obsnum].attrs['rcu_mode']), db)"
   ]
  },
  {
   "cell_type": "code",
   "execution_count": null,
   "metadata": {},
   "outputs": [],
   "source": [
    "ground_img = nearfield_imager(visibilities_selection.flatten()[:, np.newaxis],\n",
    "                              np.array(baseline_indices).T, [h5[obsnum].attrs['frequency']],\n",
    "                              600, 600, extent,\n",
    "                              get_station_pqr(h5[obsnum].attrs[\"station_name\"], h5[obsnum].attrs[\"rcu_mode\"], db))\n",
    "ground_img = np.real(2 * ground_img)"
   ]
  },
  {
   "cell_type": "code",
   "execution_count": null,
   "metadata": {},
   "outputs": [],
   "source": [
    "background_map = get_map(*extent_lonlat, 14)"
   ]
  },
  {
   "cell_type": "code",
   "execution_count": null,
   "metadata": {},
   "outputs": [],
   "source": [
    "fig, folium_overlay = make_ground_plot(ground_img, background_map, extent, draw_contours=False, opacity=0.3)"
   ]
  },
  {
   "cell_type": "code",
   "execution_count": null,
   "metadata": {},
   "outputs": [],
   "source": [
    "extent_lonlat"
   ]
  },
  {
   "cell_type": "code",
   "execution_count": null,
   "metadata": {},
   "outputs": [],
   "source": [
    "extent_lonlat"
   ]
  },
  {
   "cell_type": "code",
   "execution_count": null,
   "metadata": {},
   "outputs": [],
   "source": [
    "make_leaflet_map(folium_overlay, *(extent_lonlat[1:3]), extent_lonlat[0], extent_lonlat[2], extent_lonlat[1], extent_lonlat[3])"
   ]
  },
  {
   "cell_type": "code",
   "execution_count": null,
   "metadata": {},
   "outputs": [],
   "source": []
  }
 ],
 "metadata": {
  "kernelspec": {
   "display_name": "Python 3",
   "language": "python",
   "name": "python3"
  },
  "language_info": {
   "codemirror_mode": {
    "name": "ipython",
    "version": 3
   },
   "file_extension": ".py",
   "mimetype": "text/x-python",
   "name": "python",
   "nbconvert_exporter": "python",
   "pygments_lexer": "ipython3",
   "version": "3.6.10"
  }
 },
 "nbformat": 4,
 "nbformat_minor": 4
}
