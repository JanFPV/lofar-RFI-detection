{
 "cells": [
  {
   "cell_type": "markdown",
   "metadata": {},
   "source": [
    "# LOFAR single station imaging - Video making"
   ]
  },
  {
   "cell_type": "code",
   "execution_count": 13,
   "metadata": {},
   "outputs": [],
   "source": [
    "import getpass\n",
    "import datetime\n",
    "import numpy as np\n",
    "\n",
    "import sys\n",
    "sys.path.append('..')\n",
    "\n",
    "from lofarimaging import get_station_type\n",
    "from lofarimaging.rfi_tools import analyze_files, print_summary, measure_processing_duration\n",
    "from lofarimaging.rfi_tools import generate_time_sweep, generate_subband_sweep, generate_height_sweep\n",
    "from lofarimaging.rfi_tools import get_number_of_measurements_time_sweep, get_number_of_measurements_subband_sweep, get_number_of_measurements_height_sweep"
   ]
  },
  {
   "cell_type": "code",
   "execution_count": 14,
   "metadata": {},
   "outputs": [
    {
     "name": "stdout",
     "output_type": "stream",
     "text": [
      "The autoreload extension is already loaded. To reload it, use:\n",
      "  %reload_ext autoreload\n"
     ]
    }
   ],
   "source": [
    "try:\n",
    "    get_ipython().run_line_magic(\"load_ext\", \"autoreload\")\n",
    "    get_ipython().run_line_magic(\"autoreload\", \"2\")\n",
    "except NameError:\n",
    "    pass"
   ]
  },
  {
   "cell_type": "code",
   "execution_count": 15,
   "metadata": {},
   "outputs": [
    {
     "name": "stdout",
     "output_type": "stream",
     "text": [
      "Contents of caltable_dir: ['CalTable_614_mode1.dat', 'CalTable_614_mode2.dat', 'CalTable_614_mode3.dat', 'CalTable_614_mode4.dat', 'CalTable_614_mode5.dat', 'CalTable-614-HBA-110_190.dat', 'CalTable-614-LBA_INNER-10_90.dat', 'CalTable-614-LBA_INNER-30_90.dat', 'CalTable-614-LBA_OUTER-10_90.dat', 'CalTable-614-LBA_OUTER-30_90.dat', 'CalTable-614-LBA_SPARSE_EVEN-10_90.dat', 'CalTable-614-LBA_SPARSE_EVEN-30_90.dat', 'CalTable-614-LBA_SPARSE_ODD-10_90.dat', 'CalTable-614-LBA_SPARSE_ODD-30_90.dat']\n"
     ]
    }
   ],
   "source": [
    "import os\n",
    "\n",
    "username = getpass.getuser()\n",
    "data_dir = f\"/home/{username}/Documents/LV614_image_data/\"\n",
    "caltable_dir = f\"/home/{username}/Documents/LV614_image_data/CalTables/\"\n",
    "# List the contents of caltable_dir and print them\n",
    "caltable_contents = os.listdir(caltable_dir)\n",
    "print(\"Contents of caltable_dir:\", caltable_contents)\n",
    "\n",
    "output_dir = \"../results/movie\"\n",
    "temp_dir = output_dir + \"/temp\"\n",
    "fps = 10\n",
    "short_sweep = True\n",
    "\n",
    "# Observation dataset\n",
    "obs_dir = data_dir + \"sess_sid20230111T071252_LV614/scan_59955.30061/LV614_20230111_071256_spw3_sb51_461_int1_dur24300_dir0,0,SUN_xst/\"\n",
    "\n",
    "# Observation info\n",
    "station_name = \"LV614\"\n",
    "integration_time_s = 2\n",
    "rcu_mode = 3\n",
    "height = 1.5\n",
    "station_type = get_station_type(station_name)\n"
   ]
  },
  {
   "cell_type": "code",
   "execution_count": 16,
   "metadata": {},
   "outputs": [
    {
     "name": "stdout",
     "output_type": "stream",
     "text": [
      "Summary of Analyzed Files:\n",
      "Number of files: 12150\n",
      "First and last subband: 51 - 461\n",
      "Total subbands: 411\n",
      "Start time: 2023-01-11 07:12:56\n",
      "End time: 2023-01-11 13:57:54\n",
      "Average measurements per subband: 29.56\n",
      "Average measurement duration: 2.0 seconds\n"
     ]
    }
   ],
   "source": [
    "df, summary = analyze_files(obs_dir)\n",
    "print_summary(summary)"
   ]
  },
  {
   "cell_type": "code",
   "execution_count": 17,
   "metadata": {},
   "outputs": [
    {
     "name": "stdout",
     "output_type": "stream",
     "text": [
      "Generating image for subband 255 at time 2023-01-11 07:19:44 and height 1.5 m.\n",
      "Estimated duration of the time sweep movie generation: 0:00:22.833950\n",
      "Estimated duration of the subband sweep movie generation: 0:00:22.833950\n",
      "Estimated duration of the height sweep movie generation: 0:00:22.833950\n",
      "Total number of measurements: 9\n",
      "Estimated duration of the full movie generation: 0:01:08.501850\n"
     ]
    }
   ],
   "source": [
    "# Time sweep of the selected subbands\n",
    "height_time_sweep = 1.5\n",
    "subbands_time_sweep = [110, 220, 330, 440]\n",
    "\n",
    "# Subband sweep at a given time\n",
    "height_subband_sweep = 1.5\n",
    "subband_min = 52\n",
    "subband_max = 460\n",
    "subband_step = 1\n",
    "subbands = df[\"subband\"].unique()\n",
    "subbands_subband_sweep = [s for s in sorted(subbands) if subband_min <= s <= subband_max][::subband_step]\n",
    "min_time = df[\"timestamp\"].min()\n",
    "times_subband_sweep = [\n",
    "    #min_time + datetime.timedelta(minutes=5),\n",
    "    min_time + datetime.timedelta(minutes=50),\n",
    "    min_time + datetime.timedelta(minutes=200),\n",
    "]\n",
    "\n",
    "# Height sweep at a given time and subband\n",
    "height_min = 0\n",
    "height_max = 1000\n",
    "height_step = 1.5\n",
    "heights_height_sweep = np.arange(height_min, height_max, height_step)\n",
    "subbands_height_sweep = [110, 220, 330, 440]\n",
    "min_time = df[\"timestamp\"].min()\n",
    "times_height_sweep = [\n",
    "    #min_time + datetime.timedelta(minutes=5),\n",
    "    min_time + datetime.timedelta(minutes=50),\n",
    "    min_time + datetime.timedelta(minutes=200),\n",
    "]\n",
    "\n",
    "# Estimation of the processing duration\n",
    "duration = measure_processing_duration(df=df, station_name=station_name, station_type=station_type, rcu_mode=rcu_mode, temp_dir=temp_dir)\n",
    "\n",
    "time_sweep_measurements = get_number_of_measurements_time_sweep(df=df, subbands=subbands_time_sweep, short_sweep=short_sweep)\n",
    "subband_sweep_measurements = get_number_of_measurements_subband_sweep(df=df, subbands=subbands_subband_sweep, times=times_subband_sweep, short_sweep=short_sweep)\n",
    "height_sweep_measurements = get_number_of_measurements_height_sweep(df=df, subbands=subbands_height_sweep, times=times_height_sweep, heights=heights_height_sweep, short_sweep=short_sweep)\n",
    "\n",
    "time_sweep_duration = datetime.timedelta(seconds=duration * time_sweep_measurements)\n",
    "subband_sweep_duration = datetime.timedelta(seconds=duration * subband_sweep_measurements)\n",
    "height_sweep_duration = datetime.timedelta(seconds=duration * height_sweep_measurements)\n",
    "\n",
    "\n",
    "\n",
    "print(f\"Estimated duration of the time sweep movie generation: {str(time_sweep_duration)}\")\n",
    "print(f\"Estimated duration of the subband sweep movie generation: {str(subband_sweep_duration)}\")\n",
    "print(f\"Estimated duration of the height sweep movie generation: {str(height_sweep_duration)}\")\n",
    "print(f\"Total number of measurements: {time_sweep_measurements + subband_sweep_measurements + height_sweep_measurements}\")\n",
    "print(f\"Estimated duration of the full movie generation: {str(time_sweep_duration + subband_sweep_duration + height_sweep_duration)}\")"
   ]
  },
  {
   "cell_type": "code",
   "execution_count": 18,
   "metadata": {},
   "outputs": [
    {
     "name": "stdout",
     "output_type": "stream",
     "text": [
      "Generating images for time sweep...\n",
      "Generating image for subband 110 at time 2023-01-11 07:14:54 and height 1.5 m.\n",
      "Generating image for subband 110 at time 2023-01-11 07:28:36 and height 1.5 m.\n",
      "Generating image for subband 110 at time 2023-01-11 07:42:18 and height 1.5 m.\n",
      "Image generation complete for time sweep.\n",
      "Movie generation complete.\n"
     ]
    }
   ],
   "source": [
    "generate_time_sweep(\n",
    "    df=df,\n",
    "    subbands=subbands_time_sweep,\n",
    "    height=height_time_sweep,\n",
    "    station_name=station_name,\n",
    "    station_type=station_type,\n",
    "    rcu_mode=rcu_mode,\n",
    "    temp_dir=temp_dir,\n",
    "    output_dir=output_dir,\n",
    "    fps=fps,\n",
    "    short_sweep=short_sweep,\n",
    ")"
   ]
  },
  {
   "cell_type": "code",
   "execution_count": 19,
   "metadata": {},
   "outputs": [
    {
     "name": "stdout",
     "output_type": "stream",
     "text": [
      "Generating images for subband sweep...\n",
      "Generating image for subband 52 at time 2023-01-11 08:07:46 and height 1.5 m.\n",
      "Generating image for subband 53 at time 2023-01-11 08:07:48 and height 1.5 m.\n",
      "Generating image for subband 54 at time 2023-01-11 08:07:50 and height 1.5 m.\n",
      "Image generation complete for subband sweep.\n",
      "Movie generation complete.\n"
     ]
    }
   ],
   "source": [
    "generate_subband_sweep(\n",
    "    df=df,\n",
    "    times=times_subband_sweep,\n",
    "    subbands=subbands_subband_sweep,\n",
    "    height=height_subband_sweep,\n",
    "    station_name=station_name,\n",
    "    station_type=station_type,\n",
    "    rcu_mode=rcu_mode,\n",
    "    temp_dir=temp_dir,\n",
    "    output_dir=output_dir,\n",
    "    fps=fps,\n",
    "    short_sweep=short_sweep,\n",
    ")"
   ]
  },
  {
   "cell_type": "code",
   "execution_count": 20,
   "metadata": {},
   "outputs": [
    {
     "name": "stdout",
     "output_type": "stream",
     "text": [
      "Generating images for height sweep...\n",
      "Generating image for subband 110 at time 2023-01-11 08:09:42 and height 0.0 m.\n",
      "Generating image for subband 110 at time 2023-01-11 08:09:42 and height 1.5 m.\n",
      "Generating image for subband 110 at time 2023-01-11 08:09:42 and height 3.0 m.\n",
      "Image generation complete for height sweep.\n",
      "Movie generation complete.\n"
     ]
    }
   ],
   "source": [
    "generate_height_sweep(\n",
    "    df=df,\n",
    "    times=times_height_sweep,\n",
    "    subbands=subbands_height_sweep,\n",
    "    heights=heights_height_sweep,\n",
    "    station_name=station_name,\n",
    "    station_type=station_type,\n",
    "    rcu_mode=rcu_mode,\n",
    "    temp_dir=temp_dir,\n",
    "    output_dir=output_dir,\n",
    "    fps=fps,\n",
    "    short_sweep=short_sweep,\n",
    ")"
   ]
  }
 ],
 "metadata": {
  "kernelspec": {
   "display_name": "venv",
   "language": "python",
   "name": "python3"
  },
  "language_info": {
   "codemirror_mode": {
    "name": "ipython",
    "version": 3
   },
   "file_extension": ".py",
   "mimetype": "text/x-python",
   "name": "python",
   "nbconvert_exporter": "python",
   "pygments_lexer": "ipython3",
   "version": "3.13.3"
  }
 },
 "nbformat": 4,
 "nbformat_minor": 4
}
