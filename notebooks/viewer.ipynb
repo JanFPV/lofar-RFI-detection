{
 "cells": [
  {
   "cell_type": "markdown",
   "metadata": {},
   "source": [
    "# LOFAR single station imaging"
   ]
  },
  {
   "cell_type": "markdown",
   "metadata": {},
   "source": [
    "Based on version 1.4 of V.A. Moss's tutorial, tutorial from M.A. Brentjens 8/8/2017.\n",
    "\n",
    "Updated February 2020 by T.J. Dijkema with aerial imagery backdrops."
   ]
  },
  {
   "cell_type": "code",
   "execution_count": null,
   "metadata": {},
   "outputs": [],
   "source": [
    "%load_ext autoreload\n",
    "%autoreload 2"
   ]
  },
  {
   "cell_type": "code",
   "execution_count": null,
   "metadata": {},
   "outputs": [],
   "source": [
    "from lofarimaging import make_xst_plots, read_acm_cube, get_station_type\n",
    "import os\n",
    "import datetime\n",
    "from glob import glob\n",
    "from tqdm import tqdm_notebook as tqdm"
   ]
  },
  {
   "cell_type": "code",
   "execution_count": null,
   "metadata": {},
   "outputs": [],
   "source": [
    "station_name = \"DE603\"\n",
    "station_type = get_station_type(station_name)\n",
    "xst_filename = 'test/20170720_095816_mode_3_xst_sb297.dat'\n",
    "xst_data = read_acm_cube(xst_filename, station_type)[0]\n",
    "obsdatestr, obstimestr, _, rcu_mode, _, subbandname = os.path.basename(xst_filename).rstrip(\".dat\").split(\"_\")\n",
    "obstime = datetime.datetime.strptime(obsdatestr + \":\" + obstimestr, '%Y%m%d:%H%M%S')\n",
    "subband = int(subbandname[2:])"
   ]
  },
  {
   "cell_type": "code",
   "execution_count": null,
   "metadata": {},
   "outputs": [],
   "source": [
    "sky_fig, ground_fig, leaflet_map = make_xst_plots(xst_data, station_name, obstime, subband, rcu_mode, caltable_dir=\"test/CalTables\")"
   ]
  },
  {
   "cell_type": "code",
   "execution_count": null,
   "metadata": {},
   "outputs": [],
   "source": [
    "leaflet_map"
   ]
  },
  {
   "cell_type": "code",
   "execution_count": null,
   "metadata": {},
   "outputs": [],
   "source": [
    "for xst_filename in tqdm(glob(\"test/*.dat\")):\n",
    "    xst_data = read_acm_cube(xst_filename, station_type)[0]\n",
    "    obsdatestr, obstimestr, _, rcu_mode, _, subbandname = os.path.basename(xst_filename).rstrip(\".dat\").split(\"_\")\n",
    "    obstime = datetime.datetime.strptime(obsdatestr + \":\" + obstimestr, '%Y%m%d:%H%M%S')\n",
    "    subband = int(subbandname[2:])\n",
    "    sky_fig, ground_fig, leaflet_map = make_xst_plots(xst_data, station_name, obstime, subband, rcu_mode, caltable_dir=\"test/CalTables\")"
   ]
  }
 ],
 "metadata": {
  "kernelspec": {
   "display_name": "Python 3",
   "language": "python",
   "name": "python3"
  },
  "language_info": {
   "codemirror_mode": {
    "name": "ipython",
    "version": 3
   },
   "file_extension": ".py",
   "mimetype": "text/x-python",
   "name": "python",
   "nbconvert_exporter": "python",
   "pygments_lexer": "ipython3",
   "version": "3.6.10"
  }
 },
 "nbformat": 4,
 "nbformat_minor": 4
}
