{
 "cells": [
  {
   "cell_type": "markdown",
   "metadata": {},
   "source": [
    "# LOFAR single station imaging"
   ]
  },
  {
   "cell_type": "markdown",
   "metadata": {},
   "source": [
    "Based on version 1.4 of V.A. Moss's tutorial, tutorial from M.A. Brentjens 8/8/2017.\n",
    "\n",
    "Updated February 2020 by T.J. Dijkema with aerial imagery backdrops."
   ]
  },
  {
   "cell_type": "markdown",
   "metadata": {},
   "source": [
    "This notebook is intended to explore the imaging of one XST file. To do all of the things in this notebook for a batch of XST files, have a look at the function `make_xst_plots` (`from lofarimaging import make_xst_plots`)."
   ]
  },
  {
   "cell_type": "code",
   "execution_count": null,
   "metadata": {},
   "outputs": [],
   "source": [
    "%load_ext autoreload\n",
    "%autoreload 2"
   ]
  },
  {
   "cell_type": "code",
   "execution_count": null,
   "metadata": {},
   "outputs": [],
   "source": [
    "import os\n",
    "import sys\n",
    "import time\n",
    "import datetime\n",
    "import glob\n",
    "import numpy as np\n",
    "\n",
    "import sys\n",
    "sys.path.append('..')\n",
    "\n",
    "from lofarantpos.db import LofarAntennaDatabase"
   ]
  },
  {
   "cell_type": "code",
   "execution_count": null,
   "metadata": {},
   "outputs": [],
   "source": [
    "import matplotlib.pyplot as plt\n",
    "from matplotlib import cm\n",
    "from matplotlib.colors import ListedColormap, Normalize\n",
    "import warnings\n",
    "from mpl_toolkits.axes_grid1 import make_axes_locatable\n",
    "import matplotlib.axes as maxes\n",
    "from matplotlib.ticker import FormatStrFormatter\n",
    "import re"
   ]
  },
  {
   "cell_type": "code",
   "execution_count": null,
   "metadata": {},
   "outputs": [],
   "source": [
    "from astropy.coordinates import SkyCoord, GCRS, EarthLocation, AltAz, SkyOffsetFrame, CartesianRepresentation, get_sun#, get_moon\n",
    "import astropy.units as u\n",
    "from astropy.time import Time"
   ]
  },
  {
   "cell_type": "code",
   "execution_count": null,
   "metadata": {},
   "outputs": [],
   "source": [
    "# We need lofarantpos >= 0.4.0 to get the station rotations\n",
    "\n",
    "from packaging import version\n",
    "import lofarantpos\n",
    "assert(version.parse(lofarantpos.__version__) >= version.parse(\"0.4.0\"))"
   ]
  },
  {
   "cell_type": "code",
   "execution_count": null,
   "metadata": {},
   "outputs": [],
   "source": [
    "from lofarimaging import find_caltable, sb_from_freq, freq_from_sb, read_caltable, \\\n",
    "    read_acm_cube, get_map, sky_imager, ground_imager, get_station_pqr, get_station_type, \\\n",
    "    skycoord_to_lmn, nearfield_imager, make_leaflet_map, make_sky_plot, make_ground_plot, \\\n",
    "    apply_calibration, get_full_station_name, get_station_xyz"
   ]
  },
  {
   "cell_type": "code",
   "execution_count": null,
   "metadata": {},
   "outputs": [],
   "source": [
    "# We need python 3.6 for f-string formatting\n",
    "\n",
    "\n",
    "assert(sys.version_info.major + 0.1*sys.version_info.minor >= 3.6)"
   ]
  },
  {
   "cell_type": "code",
   "execution_count": null,
   "metadata": {},
   "outputs": [],
   "source": [
    "base_dir = \"/home/jan/Documents/LV614_image_data\"\n",
    "#data_dir = \"./test\"\n",
    "#data_dir = \"sess_sid20230106T105202_LV614/scan_59950.45281/LV614_20230106_105219_spw3_sb51_461_int1_dur8700_dir0,0,JUPITER_bst/\"\n",
    "#data_dir = \"/sess_sid20230106T105202_LV614/scan_59950.45281/LV614_20230106_110049_spw3_int1_dur512_dir0,0,JUPITER_acc/\"\n",
    "data_dir = base_dir + \"/sess_sid20230111T071252_LV614/scan_59955.30061/LV614_20230111_071256_spw3_sb51_461_int1_dur24300_dir0,0,SUN_xst/\"\n",
    "#data_dir = \"/sess_sid20220913T112630_LV614/scan_59835.47674/LV614_20220913_113334_spw3_sb51_461_int1_dur411_dirCas-A_xst/\"\n",
    "\n",
    "\n",
    "#caltable_dir = \"./test/CalTables\"  # Root directory under which station information is stored in subdirectories DE602C/etc/, RS106/etc/, ...\n",
    "caltable_dir = base_dir + \"/CalTables/\""
   ]
  },
  {
   "cell_type": "code",
   "execution_count": null,
   "metadata": {},
   "outputs": [],
   "source": [
    "extent = [-150, 150, -150, 150]\n",
    "pixels_per_metre = 0.5\n",
    "height = 1.5"
   ]
  },
  {
   "cell_type": "code",
   "execution_count": null,
   "metadata": {},
   "outputs": [],
   "source": [
    "os.makedirs('results', exist_ok=True)"
   ]
  },
  {
   "cell_type": "code",
   "execution_count": null,
   "metadata": {},
   "outputs": [],
   "source": [
    "start1 = time.time()"
   ]
  },
  {
   "cell_type": "code",
   "execution_count": null,
   "metadata": {},
   "outputs": [],
   "source": [
    "# Read all available .dat files\n",
    "print(f\"Searching for available files in {data_dir}\")\n",
    "files = glob.glob(data_dir + \"/*.dat\")\n",
    "for file_index, filename in enumerate(files):\n",
    "    print(f\"{file_index}: {filename}\")"
   ]
  },
  {
   "cell_type": "code",
   "execution_count": null,
   "metadata": {},
   "outputs": [],
   "source": [
    "# Select a file\n",
    "#xst_filename = \"../image_data/sess_sid20230106T105202_LV614/scan_59950.45281/LV614_20230106_105219_spw3_sb51_461_int1_dur8700_dir0,0,JUPITER_bst/20230106_105219_bst_00X.dat\"\n",
    "xst_filename = files[0]\n",
    "\n",
    "print(\"File selected:\", xst_filename)"
   ]
  },
  {
   "cell_type": "code",
   "execution_count": null,
   "metadata": {},
   "outputs": [],
   "source": [
    "station_name = \"LV614\"\n",
    "#station_name = \"DE603\"\n",
    "\n",
    "#rcu_mode = re.search(\"mode_([^_]*)\", xst_filename).groups(0)[0]\n",
    "rcu_mode = \"3\" # Hardcoded for now\n",
    "#subband = int(re.search(\"sb([0-9]*)\", xst_filename).groups(0)[0])\n",
    "#subband = 281 # Hardcoded for now\n",
    "obsdatestr, obstimestr, *_ = os.path.basename(xst_filename).rstrip(\".dat\").split(\"_\")"
   ]
  },
  {
   "cell_type": "code",
   "execution_count": null,
   "metadata": {},
   "outputs": [],
   "source": [
    "# Read subband from .h file\n",
    "\n",
    "import re\n",
    "\n",
    "# Assuming h_filename is already defined\n",
    "h_filename = xst_filename.replace(\".dat\", \".h\")\n",
    "\n",
    "# Read the .h file\n",
    "with open(h_filename, 'r') as file:\n",
    "    content = file.read()\n",
    "\n",
    "# Find the subband number using regex\n",
    "match = re.search(r'--xcsubband=(\\d+)', content)\n",
    "if match:\n",
    "    subband = int(match.group(1))\n",
    "else:\n",
    "    subband = None  # or handle the case where the subband is not found\n",
    "\n",
    "print(\"Subband: \", subband)"
   ]
  },
  {
   "cell_type": "code",
   "execution_count": null,
   "metadata": {},
   "outputs": [],
   "source": [
    "rcu_mode = rcu_mode.replace(\"sparseeven\", \"sparse_even\").replace(\"sparseodd\", \"sparse_odd\")\n",
    "rcu_mode"
   ]
  },
  {
   "cell_type": "code",
   "execution_count": null,
   "metadata": {},
   "outputs": [],
   "source": [
    "station_type = get_station_type(station_name)\n",
    "station_type"
   ]
  },
  {
   "cell_type": "code",
   "execution_count": null,
   "metadata": {},
   "outputs": [],
   "source": [
    "station_name = get_full_station_name(station_name, rcu_mode)\n",
    "\n",
    "# Get the data\n",
    "fname = f\"{obsdatestr}_{obstimestr}_{station_name}_SB{subband}\"\n",
    "\n",
    "npix_l, npix_m = 131, 131\n",
    "freq = freq_from_sb(subband, rcu_mode=rcu_mode)\n",
    "\n",
    "# Which slice in time to visualise\n",
    "timestep = 0\n",
    "\n",
    "# For ground imaging\n",
    "ground_resolution = pixels_per_metre  # pixels per metre for ground_imaging, default is 0.5 pixel/metre\n",
    "\n",
    "obstime = datetime.datetime.strptime(obsdatestr + \":\" + obstimestr, '%Y%m%d:%H%M%S')\n",
    "\n",
    "# Confirm the data has been read correctly\n",
    "print(f\"\"\"Station: {station_name}\n",
    "Station type: {station_type}\n",
    "Subband: {subband}\n",
    "Timestep: {timestep}\n",
    "Save title: {fname}\n",
    "Sky image size: {npix_l:d} x {npix_m:d}\n",
    "Ground image extent: {extent[1]-extent[0]:d} x {extent[3]-extent[2]:d} m\n",
    "Ground height: {height} m\\\n",
    "\"\"\")"
   ]
  },
  {
   "cell_type": "code",
   "execution_count": null,
   "metadata": {},
   "outputs": [],
   "source": [
    "# Read cube\n",
    "cube = read_acm_cube(xst_filename, station_type)"
   ]
  },
  {
   "cell_type": "code",
   "execution_count": null,
   "metadata": {},
   "outputs": [],
   "source": [
    "print(f\"Cube shape: {cube.shape}\")"
   ]
  },
  {
   "cell_type": "code",
   "execution_count": null,
   "metadata": {},
   "outputs": [],
   "source": [
    "cube, calibration_info = apply_calibration(cube, station_name, rcu_mode, subband, caltable_dir=caltable_dir)"
   ]
  },
  {
   "cell_type": "code",
   "execution_count": null,
   "metadata": {},
   "outputs": [],
   "source": [
    "# Split into the XX and YY polarisations (RCUs)\n",
    "# This needs to be modified in future for LBA sparse\n",
    "cube_xx = cube[:, 0::2, 0::2]\n",
    "cube_yy = cube[:, 1::2, 1::2]\n",
    "visibilities_all = cube_xx + cube_yy\n",
    "\n",
    "# Stokes I for specified timestep\n",
    "visibilities = visibilities_all[timestep]"
   ]
  },
  {
   "cell_type": "code",
   "execution_count": null,
   "metadata": {},
   "outputs": [],
   "source": [
    "# Check the resulting cubes have half the size\n",
    "cube_xx.shape, cube_yy.shape, visibilities.shape, visibilities.dtype"
   ]
  },
  {
   "cell_type": "code",
   "execution_count": null,
   "metadata": {},
   "outputs": [],
   "source": [
    "# Check how the various antennas/polarisation look with time\n",
    "fig1, (ax0, ax1, ax2) = plt.subplots(nrows=3, ncols=1, figsize=(6,6))\n",
    "\n",
    "ax0.imshow(cube_xx[:, 0, :].real, aspect='auto')\n",
    "ax0.set_ylabel('Time (s)')\n",
    "ax0.set_title('ANT #0: XX')\n",
    "ax1.imshow(cube_yy[:,0,:].real,aspect='auto')\n",
    "ax1.set_title('ANT #0: YY')\n",
    "ax1.set_ylabel('Time (s)')\n",
    "ax2.imshow(visibilities_all[:,0,:].real,aspect='auto')\n",
    "ax2.set_title('ANT #0: I')\n",
    "ax2.set_xlabel('Antenna number')\n",
    "ax2.set_ylabel('Time (s)')\n",
    "fig1.tight_layout()"
   ]
  },
  {
   "cell_type": "code",
   "execution_count": null,
   "metadata": {},
   "outputs": [],
   "source": [
    "# Check how the correlations look\n",
    "fig1, (ax0, ax1, ax2) = plt.subplots(nrows=1, ncols=3, figsize=(8,3))\n",
    "\n",
    "ax0.imshow(cube_xx[0,:,:].real, aspect='auto')\n",
    "ax0.set_xlabel('Antenna number')\n",
    "ax0.set_ylabel('Antenna number')\n",
    "ax0.set_title('XX')\n",
    "ax1.imshow(cube_yy[0,:,:].real, aspect='auto')\n",
    "ax1.set_title('YY')\n",
    "ax1.set_xlabel('Antenna number')\n",
    "ax1.set_ylabel('Antenna number')\n",
    "ax2.imshow(visibilities.real, aspect='auto')\n",
    "ax2.set_title('I')\n",
    "ax2.set_xlabel('Antenna number')\n",
    "ax2.set_ylabel('Antenna number')\n",
    "fig1.tight_layout()"
   ]
  },
  {
   "cell_type": "code",
   "execution_count": null,
   "metadata": {},
   "outputs": [],
   "source": [
    "\n",
    "plt.rcParams.update({\n",
    "    'font.family': 'Times New Roman',\n",
    "    'font.size': 14,\n",
    "})\n",
    "\n",
    "\n",
    "figures = []\n",
    "\n",
    "# 1. Real Part of Visibility Matrix\n",
    "fig1, ax1 = plt.subplots(figsize=(6.5, 5))\n",
    "im1 = ax1.imshow(visibilities.real, aspect='auto', cmap='plasma')\n",
    "cbar1 = fig1.colorbar(im1, ax=ax1)\n",
    "cbar1.set_label('Amplitude', fontsize=10)\n",
    "ax1.set_title('Visibility Matrix', fontsize=12)\n",
    "ax1.set_xlabel('Antenna Index', fontsize=10)\n",
    "ax1.set_ylabel('Antenna Index', fontsize=10)\n",
    "fig1.tight_layout()\n",
    "figures.append(fig1)\n",
    "\n",
    "# 2. Log Power of Visibility Matrix\n",
    "fig4, ax4 = plt.subplots(figsize=(6.5, 5))\n",
    "log_power = np.log10(np.abs(visibilities)**1 + 1e-6)\n",
    "im4 = ax4.imshow(log_power, aspect='auto', cmap='plasma')\n",
    "cbar4 = fig4.colorbar(im4, ax=ax4)\n",
    "cbar4.set_label('Power (log scale)', fontsize=10)\n",
    "ax4.set_title('Visibility Matrix (logarithmic scale)', fontsize=12)\n",
    "ax4.set_xlabel('Antenna Index', fontsize=10)\n",
    "ax4.set_ylabel('Antenna Index', fontsize=10)\n",
    "fig4.tight_layout()\n",
    "figures.append(fig4)\n",
    "\n",
    "\n",
    "\n",
    "#fig1.savefig(\"figure_1a.png\", dpi=300, bbox_inches='tight')\n",
    "#fig4.savefig(\"figure_1b.png\", dpi=300, bbox_inches='tight')\n"
   ]
  },
  {
   "cell_type": "code",
   "execution_count": null,
   "metadata": {},
   "outputs": [],
   "source": [
    "# Setup the database\n",
    "db = LofarAntennaDatabase()"
   ]
  },
  {
   "cell_type": "code",
   "execution_count": null,
   "metadata": {},
   "outputs": [],
   "source": [
    "station_xyz, pqr_to_xyz = get_station_xyz(station_name, rcu_mode, db)"
   ]
  },
  {
   "cell_type": "code",
   "execution_count": null,
   "metadata": {},
   "outputs": [],
   "source": [
    "fig, ax = plt.subplots(figsize=(3, 3))\n",
    "ax.scatter(station_xyz[:, 0], station_xyz[:, 1], s=2, facecolor='k');\n",
    "ax.set_title(\"Antenna positions\");\n",
    "ax.set_aspect(1);"
   ]
  },
  {
   "cell_type": "code",
   "execution_count": null,
   "metadata": {},
   "outputs": [],
   "source": [
    "# For every antenna, calculate the distance between it and every other antenna\n",
    "baselines = station_xyz[:, np.newaxis, :] - station_xyz[np.newaxis, :, :]"
   ]
  },
  {
   "cell_type": "code",
   "execution_count": null,
   "metadata": {},
   "outputs": [],
   "source": [
    "# Make a plot of the baselines contents (only U-V, not W)\n",
    "# This gives the instantaneous U-V coverage of the LBA station\n",
    "plt.figure(figsize=(3,3))\n",
    "plt.scatter(baselines[:,:,0], baselines[:,:,1], facecolor='k', edgecolor='k', s=1, alpha=0.1);"
   ]
  },
  {
   "cell_type": "code",
   "execution_count": null,
   "metadata": {},
   "outputs": [],
   "source": [
    "# Account for the rotation\n",
    "rotation = np.rad2deg(db.rotation_from_north(station_name))\n",
    "print ('Rotation for %s: %.2f deg' % (station_name, rotation))"
   ]
  },
  {
   "cell_type": "code",
   "execution_count": null,
   "metadata": {},
   "outputs": [],
   "source": [
    "obstime_astropy = Time(obstime)\n",
    "# Determine positions of Cas A and Cyg A\n",
    "station_earthlocation = EarthLocation.from_geocentric(*(db.phase_centres[station_name] * u.m))\n",
    "zenith = AltAz(az=0 * u.deg, alt=90 * u.deg, obstime=obstime_astropy,\n",
    "               location=station_earthlocation).transform_to(GCRS(obstime=obstime_astropy))\n",
    "\n",
    "marked_bodies = {\n",
    "    'Cas A': SkyCoord(ra=350.85*u.deg, dec=58.815*u.deg),\n",
    "    'Cyg A': SkyCoord(ra=299.868*u.deg, dec=40.734*u.deg),\n",
    "        'Per A': SkyCoord.from_name(\"Perseus A\"),\n",
    "        'Her A': SkyCoord.from_name(\"Hercules A\"),\n",
    "        'Cen A': SkyCoord.from_name(\"Centaurus A\"),\n",
    "        '?': SkyCoord.from_name(\"J101415.9+105106\"),\n",
    "        '3C295': SkyCoord.from_name(\"3C295\"),\n",
    "        #'Moon': get_moon(obstime_astropy, location=station_earthlocation).transform_to(GCRS(obstime=obstime_astropy)),\n",
    "    'Sun': get_sun(obstime_astropy),\n",
    "        '3C196': SkyCoord.from_name(\"3C196\")\n",
    "}\n",
    "\n",
    "marked_bodies_lmn = {}\n",
    "for body_name, body_coord in marked_bodies.items():\n",
    "    #print(body_name, body_coord.separation(zenith), body_coord.separation(zenith))\n",
    "    if body_coord.transform_to(AltAz(location=station_earthlocation, obstime=obstime_astropy)).alt > 0:\n",
    "        marked_bodies_lmn[body_name] = skycoord_to_lmn(marked_bodies[body_name], zenith)"
   ]
  },
  {
   "cell_type": "code",
   "execution_count": null,
   "metadata": {},
   "outputs": [],
   "source": [
    "# Fourier transform\n",
    "%time img = sky_imager(visibilities, baselines, freq, npix_l, npix_m)"
   ]
  },
  {
   "cell_type": "code",
   "execution_count": null,
   "metadata": {},
   "outputs": [],
   "source": [
    "fig = make_sky_plot(img, marked_bodies_lmn, title=f\"Sky image for {station_name}\",\n",
    "                    subtitle=f\"SB {subband} ({freq / 1e6:.1f} MHz), {str(obstime)[:16]}\");"
   ]
  },
  {
   "cell_type": "code",
   "execution_count": null,
   "metadata": {},
   "outputs": [],
   "source": [
    "fig.savefig(os.path.join('results', f'{fname}_sky_calibrated.png'), bbox_inches='tight', dpi=200)"
   ]
  },
  {
   "cell_type": "code",
   "execution_count": null,
   "metadata": {},
   "outputs": [],
   "source": [
    "from lofarimaging.lofarimaging import subtract_sources"
   ]
  },
  {
   "cell_type": "code",
   "execution_count": null,
   "metadata": {},
   "outputs": [],
   "source": [
    "visibilities_subtracted = subtract_sources(visibilities, baselines, freq, marked_bodies_lmn)"
   ]
  },
  {
   "cell_type": "code",
   "execution_count": null,
   "metadata": {},
   "outputs": [],
   "source": [
    "img_subtracted = sky_imager(visibilities_subtracted, baselines, freq, npix_l, npix_m)"
   ]
  },
  {
   "cell_type": "code",
   "execution_count": null,
   "metadata": {},
   "outputs": [],
   "source": [
    "fig = make_sky_plot(img_subtracted, marked_bodies_lmn, title=f\"Sky image for {station_name}\",\n",
    "                    subtitle=f\"SB {subband} ({freq / 1e6:.1f} MHz), {str(obstime)[:16]}\",\n",
    "                    vmin=np.quantile(img_subtracted, 0.05));"
   ]
  },
  {
   "cell_type": "code",
   "execution_count": null,
   "metadata": {},
   "outputs": [],
   "source": [
    "fig.savefig(os.path.join('results', f'{fname}_sky_calibrated_substracted.png'), bbox_inches='tight', dpi=200)"
   ]
  },
  {
   "cell_type": "code",
   "execution_count": null,
   "metadata": {},
   "outputs": [],
   "source": [
    "plt.close(fig)"
   ]
  },
  {
   "cell_type": "code",
   "execution_count": null,
   "metadata": {},
   "outputs": [],
   "source": [
    "npix_x, npix_y = int(ground_resolution * (extent[1] - extent[0])), int(ground_resolution * (extent[3] - extent[2]))"
   ]
  },
  {
   "cell_type": "code",
   "execution_count": null,
   "metadata": {},
   "outputs": [],
   "source": [
    "os.environ[\"NUMEXPR_NUM_THREADS\"] = \"3\""
   ]
  },
  {
   "cell_type": "code",
   "execution_count": null,
   "metadata": {},
   "outputs": [],
   "source": [
    "# Select a subset of visibilities, only the lower triangular part\n",
    "baseline_indices = np.tril_indices(visibilities.shape[0])"
   ]
  },
  {
   "cell_type": "code",
   "execution_count": null,
   "metadata": {},
   "outputs": [],
   "source": [
    "visibilities_selection = visibilities_subtracted[baseline_indices]"
   ]
  },
  {
   "cell_type": "code",
   "execution_count": null,
   "metadata": {},
   "outputs": [],
   "source": [
    "%time img = nearfield_imager(visibilities_selection.flatten()[:,np.newaxis], \\\n",
    "                             np.array(baseline_indices).T, \\\n",
    "                             [freq], npix_x, npix_y, extent, station_xyz, height=height)\n",
    "# Correct for taking only lower triangular part\n",
    "img = np.real(2 * img)"
   ]
  },
  {
   "cell_type": "code",
   "execution_count": null,
   "metadata": {},
   "outputs": [],
   "source": [
    "import lofargeotiff"
   ]
  },
  {
   "cell_type": "code",
   "execution_count": null,
   "metadata": {},
   "outputs": [],
   "source": [
    "# Convert bottom left and upper right to PQR just for lofargeo\n",
    "pmin, qmin, _ = pqr_to_xyz.T @ (np.array([extent[0], extent[2], 0]))\n",
    "pmax, qmax, _ = pqr_to_xyz.T @ (np.array([extent[1], extent[3], 0]))\n",
    "lon_center, lat_center, _ = lofargeotiff.pqr_to_longlatheight([0, 0, 0], station_name)\n",
    "lon_min, lat_min, _ = lofargeotiff.pqr_to_longlatheight([pmin, qmin, 0], station_name)\n",
    "lon_max, lat_max, _ = lofargeotiff.pqr_to_longlatheight([pmax, qmax, 0], station_name)\n",
    "lon_min, lat_min, lon_max, lat_max"
   ]
  },
  {
   "cell_type": "code",
   "execution_count": null,
   "metadata": {},
   "outputs": [],
   "source": [
    "background_map = get_map(lon_min, lon_max, lat_min, lat_max, 18)"
   ]
  },
  {
   "cell_type": "code",
   "execution_count": null,
   "metadata": {},
   "outputs": [],
   "source": [
    "# Make colors semi-transparent in the lower 3/4 of the scale\n",
    "cmap = cm.Spectral_r\n",
    "cmap_with_alpha = cmap(np.arange(cmap.N))\n",
    "cmap_with_alpha[:, -1] = np.clip(np.linspace(0, 1.5, cmap.N), 0., 1.)\n",
    "cmap_with_alpha = ListedColormap(cmap_with_alpha)"
   ]
  },
  {
   "cell_type": "code",
   "execution_count": null,
   "metadata": {},
   "outputs": [],
   "source": [
    "plt.imshow(img)"
   ]
  },
  {
   "cell_type": "code",
   "execution_count": null,
   "metadata": {},
   "outputs": [],
   "source": [
    "fig, folium_overlay = make_ground_plot(img, background_map, extent,\n",
    "                                       title=f\"Near field image for {station_name}\",\n",
    "                                       subtitle=f\"SB {subband} ({freq / 1e6:.1f} MHz), {str(obstime)[:16]}\",\n",
    "                                       opacity=0.3)"
   ]
  },
  {
   "cell_type": "code",
   "execution_count": null,
   "metadata": {},
   "outputs": [],
   "source": [
    "fig.savefig(os.path.join('results', f'{fname}_near_field_uncalibrated.png'), bbox_inches='tight', dpi=200)"
   ]
  },
  {
   "cell_type": "code",
   "execution_count": null,
   "metadata": {},
   "outputs": [],
   "source": [
    "maxpixel_ypix, maxpixel_xpix = np.unravel_index(np.argmax(img), img.shape)\n",
    "maxpixel_x = np.interp(maxpixel_xpix, [0, npix_x], [extent[0], extent[1]])\n",
    "maxpixel_y = np.interp(maxpixel_ypix, [0, npix_y], [extent[2], extent[3]])\n",
    "[maxpixel_p, maxpixel_q, _] = pqr_to_xyz.T @ np.array([maxpixel_x, maxpixel_y, height])\n",
    "maxpixel_lon, maxpixel_lat, _ = lofargeotiff.pqr_to_longlatheight([maxpixel_p, maxpixel_q], station_name)"
   ]
  },
  {
   "cell_type": "code",
   "execution_count": null,
   "metadata": {},
   "outputs": [],
   "source": [
    "# Show location of maximum if not at the image border\n",
    "if 5 < maxpixel_xpix < npix_x - 5 and 5 < maxpixel_ypix < npix_y - 5:\n",
    "    print(f\"Maximum at {maxpixel_x:.0f}m east, {maxpixel_y:.0f}m north of station center (lat/long {maxpixel_lat:.5f}, {maxpixel_lon:.5f})\")"
   ]
  },
  {
   "cell_type": "code",
   "execution_count": null,
   "metadata": {},
   "outputs": [],
   "source": [
    "# Check total time to run\n",
    "end1 = time.time()\n",
    "print ('Time elapsed: %.2f s' % (end1-start1))"
   ]
  },
  {
   "cell_type": "markdown",
   "metadata": {},
   "source": [
    "Export the near field image to GeoTIFF for archiving and viewing in other tools (QGIS)."
   ]
  },
  {
   "cell_type": "code",
   "execution_count": null,
   "metadata": {},
   "outputs": [],
   "source": [
    "obstime = datetime.datetime.strptime(obsdatestr + \":\" + obstimestr, '%Y%m%d:%H%M%S')"
   ]
  },
  {
   "cell_type": "code",
   "execution_count": null,
   "metadata": {},
   "outputs": [],
   "source": [
    "tags = {\"datafile\": xst_filename,\n",
    "        \"generated_with\": f\"lofarimaging notebook\",\n",
    "        \"subband\": subband,\n",
    "        \"frequency\": freq,\n",
    "        \"extent_xyz\": extent,\n",
    "        \"height\": height,\n",
    "        \"station\": station_name,\n",
    "        \"pixels_per_metre\": pixels_per_metre}\n",
    "tags.update(calibration_info)\n",
    "lofargeotiff.write_geotiff(img, f\"results/{fname}_nearfield_calibrated.tiff\",\n",
    "                           (pmin, qmin), (pmax, qmax), stationname=station_name,\n",
    "                           obsdate=obstime, tags=tags)"
   ]
  },
  {
   "cell_type": "markdown",
   "metadata": {},
   "source": [
    "Overlay the near field image on a map."
   ]
  },
  {
   "cell_type": "code",
   "execution_count": null,
   "metadata": {},
   "outputs": [],
   "source": [
    "make_leaflet_map(folium_overlay, lon_center, lat_center, lon_min, lat_min, lon_max, lat_max)"
   ]
  }
 ],
 "metadata": {
  "kernelspec": {
   "display_name": "venv",
   "language": "python",
   "name": "python3"
  },
  "language_info": {
   "codemirror_mode": {
    "name": "ipython",
    "version": 3
   },
   "file_extension": ".py",
   "mimetype": "text/x-python",
   "name": "python",
   "nbconvert_exporter": "python",
   "pygments_lexer": "ipython3",
   "version": "3.12.10"
  }
 },
 "nbformat": 4,
 "nbformat_minor": 4
}
