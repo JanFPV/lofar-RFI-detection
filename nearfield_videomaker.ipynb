{
 "cells": [
  {
   "cell_type": "markdown",
   "metadata": {},
   "source": [
    "# LOFAR single station imaging - Video making"
   ]
  },
  {
   "cell_type": "code",
   "execution_count": 9,
   "metadata": {},
   "outputs": [],
   "source": [
    "import getpass\n",
    "import datetime\n",
    "import numpy as np\n",
    "\n",
    "from lofarantpos.db import LofarAntennaDatabase\n",
    "from lofarimaging import get_station_type\n",
    "from lofarimaging.rfi_tools import analyze_files, print_summary\n",
    "from lofarimaging.rfi_tools import generate_time_sweep, generate_subband_sweep, generate_height_sweep"
   ]
  },
  {
   "cell_type": "code",
   "execution_count": null,
   "metadata": {},
   "outputs": [],
   "source": [
    "try:\n",
    "    get_ipython().run_line_magic(\"load_ext\", \"autoreload\")\n",
    "    get_ipython().run_line_magic(\"autoreload\", \"2\")\n",
    "except NameError:\n",
    "    pass"
   ]
  },
  {
   "cell_type": "code",
   "execution_count": 3,
   "metadata": {},
   "outputs": [],
   "source": [
    "db = LofarAntennaDatabase()"
   ]
  },
  {
   "cell_type": "code",
   "execution_count": null,
   "metadata": {},
   "outputs": [],
   "source": [
    "username = getpass.getuser()\n",
    "data_dir = f\"/home/{username}/Documents/LV614_image_data/\"\n",
    "caltable_dir = f\"/home/{username}/Documents/LV614_image_data/CalTables/\"\n",
    "caltable_dir = \"CalTables/\"\n",
    "\n",
    "output_dir = \"results/movie\"\n",
    "temp_dir = output_dir + \"/temp\"\n",
    "fps = 10\n",
    "debug = True\n",
    "\n",
    "# Observation dataset\n",
    "obs_dir = data_dir + \"sess_sid20230111T071252_LV614/scan_59955.30061/LV614_20230111_071256_spw3_sb51_461_int1_dur24300_dir0,0,SUN_xst/\"\n",
    "\n",
    "# Observation info\n",
    "station_name = \"LV614\"\n",
    "integration_time_s = 2\n",
    "rcu_mode = 3\n",
    "height = 1.5\n",
    "station_type = get_station_type(station_name)\n"
   ]
  },
  {
   "cell_type": "code",
   "execution_count": 5,
   "metadata": {},
   "outputs": [
    {
     "name": "stdout",
     "output_type": "stream",
     "text": [
      "Summary of Analyzed Files:\n",
      "Number of files: 12150\n",
      "First and last subband: 51 - 461\n",
      "Total subbands: 411\n",
      "Start time: 2023-01-11 07:12:56\n",
      "End time: 2023-01-11 13:57:54\n",
      "Average measurements per subband: 29.56\n",
      "Average measurement duration: 2.0 seconds\n"
     ]
    }
   ],
   "source": [
    "df, summary = analyze_files(obs_dir)\n",
    "print_summary(summary)"
   ]
  },
  {
   "cell_type": "code",
   "execution_count": 6,
   "metadata": {},
   "outputs": [
    {
     "name": "stdout",
     "output_type": "stream",
     "text": [
      "Generating images for time sweep...\n",
      "Generating image for subband 255 at time 2023-01-11 07:19:44 and heigth 1.5 m.\n",
      "Generating image for subband 255 at time 2023-01-11 07:33:26 and heigth 1.5 m.\n",
      "Generating image for subband 255 at time 2023-01-11 07:47:08 and heigth 1.5 m.\n",
      "Image generation complete for time sweep.\n",
      "Movie generation complete.\n"
     ]
    }
   ],
   "source": [
    "# Time sweep of the selected subbands\n",
    "\n",
    "height = 1.5\n",
    "\n",
    "subbands = [200, 280, 360]\n",
    "subbands = [255]\n",
    "\n",
    "generate_time_sweep(\n",
    "    df=df,\n",
    "    subbands=subbands,\n",
    "    height=height,\n",
    "    station_name=station_name,\n",
    "    station_type=station_type,\n",
    "    rcu_mode=rcu_mode,\n",
    "    temp_dir=temp_dir,\n",
    "    output_dir=output_dir,\n",
    "    fps=fps\n",
    ")"
   ]
  },
  {
   "cell_type": "code",
   "execution_count": 7,
   "metadata": {},
   "outputs": [
    {
     "name": "stdout",
     "output_type": "stream",
     "text": [
      "Generating images for subband sweep...\n",
      "Generating image for subband 180 at time 2023-01-11 10:42:44 and heigth 1.5 m.\n",
      "Generating image for subband 240 at time 2023-01-11 10:44:44 and heigth 1.5 m.\n",
      "Generating image for subband 300 at time 2023-01-11 10:33:02 and heigth 1.5 m.\n",
      "Generating image for subband 360 at time 2023-01-11 10:35:02 and heigth 1.5 m.\n",
      "Generating image for subband 420 at time 2023-01-11 10:37:02 and heigth 1.5 m.\n",
      "Image generation complete for subband sweep.\n",
      "Movie generation complete.\n"
     ]
    }
   ],
   "source": [
    "# Subband sweep at a given time\n",
    "\n",
    "height = 1.5\n",
    "\n",
    "subband_min = 180\n",
    "subband_max = 460\n",
    "subband_step = 2\n",
    "subband_step = 60\n",
    "subbands = df[\"subband\"].unique()\n",
    "subbands = [s for s in sorted(subbands) if subband_min <= s <= subband_max][::subband_step]\n",
    "\n",
    "min_time = df[\"timestamp\"].min()\n",
    "times = [\n",
    "    #min_time + datetime.timedelta(minutes=5),\n",
    "    #min_time + datetime.timedelta(minutes=50),\n",
    "    min_time + datetime.timedelta(minutes=200)\n",
    "]\n",
    "\n",
    "generate_subband_sweep(\n",
    "    df=df,\n",
    "    times=times,\n",
    "    subbands=subbands,\n",
    "    height=height,\n",
    "    station_name=station_name,\n",
    "    station_type=station_type,\n",
    "    rcu_mode=rcu_mode,\n",
    "    temp_dir=temp_dir,\n",
    "    output_dir=output_dir,\n",
    "    fps=fps\n",
    ")"
   ]
  },
  {
   "cell_type": "code",
   "execution_count": 11,
   "metadata": {},
   "outputs": [
    {
     "name": "stdout",
     "output_type": "stream",
     "text": [
      "Generating images for height sweep...\n",
      "Generating image for subband 255 at time 2023-01-11 10:45:14 and heigth 1 m.\n",
      "Generating image for subband 255 at time 2023-01-11 10:45:14 and heigth 51 m.\n",
      "Generating image for subband 255 at time 2023-01-11 10:45:14 and heigth 101 m.\n",
      "Image generation complete for height sweep.\n",
      "Movie generation complete.\n"
     ]
    }
   ],
   "source": [
    "# Height sweep at a given time and subband\n",
    "\n",
    "height_min = 1\n",
    "height_max = 151\n",
    "height_step = 2.5\n",
    "height_step = 50\n",
    "heights = np.arange(height_min, height_max, height_step)\n",
    "\n",
    "subbands = [200, 280, 360]\n",
    "subbands = [255]\n",
    "\n",
    "min_time = df[\"timestamp\"].min()\n",
    "times = [\n",
    "    #min_time + datetime.timedelta(minutes=5),\n",
    "    #min_time + datetime.timedelta(minutes=50),\n",
    "    min_time + datetime.timedelta(minutes=200)\n",
    "]\n",
    "\n",
    "generate_height_sweep(\n",
    "    df=df,\n",
    "    times=times,\n",
    "    subbands=subbands,\n",
    "    heights=heights,\n",
    "    station_name=station_name,\n",
    "    station_type=station_type,\n",
    "    rcu_mode=rcu_mode,\n",
    "    temp_dir=temp_dir,\n",
    "    output_dir=output_dir,\n",
    "    fps=fps\n",
    ")"
   ]
  }
 ],
 "metadata": {
  "kernelspec": {
   "display_name": "venv",
   "language": "python",
   "name": "python3"
  },
  "language_info": {
   "codemirror_mode": {
    "name": "ipython",
    "version": 3
   },
   "file_extension": ".py",
   "mimetype": "text/x-python",
   "name": "python",
   "nbconvert_exporter": "python",
   "pygments_lexer": "ipython3",
   "version": "3.13.2"
  }
 },
 "nbformat": 4,
 "nbformat_minor": 4
}
