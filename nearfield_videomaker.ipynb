{
 "cells": [
  {
   "cell_type": "markdown",
   "metadata": {},
   "source": [
    "# LOFAR OPC UA single station imaging"
   ]
  },
  {
   "cell_type": "code",
   "execution_count": 1,
   "metadata": {},
   "outputs": [],
   "source": [
    "import numpy as np\n",
    "import os\n",
    "import re\n",
    "import getpass\n",
    "import datetime\n",
    "import matplotlib.pyplot as plt\n",
    "import pandas as pd\n",
    "import glob\n",
    "import cv2"
   ]
  },
  {
   "cell_type": "code",
   "execution_count": 2,
   "metadata": {},
   "outputs": [],
   "source": [
    "from lofarantpos.db import LofarAntennaDatabase\n",
    "from lofarimaging import read_acm_cube, get_station_type, make_xst_plots"
   ]
  },
  {
   "cell_type": "code",
   "execution_count": 3,
   "metadata": {},
   "outputs": [],
   "source": [
    "%load_ext autoreload\n",
    "%autoreload 2"
   ]
  },
  {
   "cell_type": "code",
   "execution_count": 4,
   "metadata": {},
   "outputs": [],
   "source": [
    "db = LofarAntennaDatabase()"
   ]
  },
  {
   "cell_type": "code",
   "execution_count": 5,
   "metadata": {},
   "outputs": [],
   "source": [
    "username = getpass.getuser()\n",
    "data_dir = f\"/home/{username}/Documents/LV614_image_data/\"\n",
    "caltable_dir = f\"/home/{username}/Documents/LV614_image_data/CalTables/\"\n",
    "caltable_dir = \"CalTables/\"\n",
    "\n",
    "output_dir = \"results/video\"\n",
    "temp_dir = output_dir + \"/temp\"\n",
    "fps = 10\n",
    "\n",
    "# Observation that works\n",
    "obs_dir = data_dir + \"sess_sid20230111T071252_LV614/scan_59955.30061/LV614_20230111_071256_spw3_sb51_461_int1_dur24300_dir0,0,SUN_xst/\"\n",
    "\n",
    "# Observation info\n",
    "station_name = \"LV614\"\n",
    "integration_time_s = 2\n",
    "rcu_mode = 3\n",
    "height = 1.5\n",
    "station_type = get_station_type(station_name)\n"
   ]
  },
  {
   "cell_type": "code",
   "execution_count": 6,
   "metadata": {},
   "outputs": [],
   "source": [
    "def get_subbands(file_path):\n",
    "    with open(file_path, 'r') as file:\n",
    "        content = file.read()\n",
    "    match = re.search(r'--xcsubband=(\\d+)', content)\n",
    "    return int(match.group(1)) if match else None\n",
    "\n",
    "def get_obstime(file_path):\n",
    "    obsdatestr, obstimestr, *_ = os.path.basename(file_path).rstrip(\".dat\").split(\"_\")\n",
    "    return datetime.datetime.strptime(obsdatestr + \":\" + obstimestr, '%Y%m%d:%H%M%S')\n",
    "\n",
    "def analyze_files(data_files):\n",
    "    dat_files = sorted(glob.glob(os.path.join(data_files, '*.dat')))\n",
    "    h_files = sorted(glob.glob(os.path.join(data_files, '*.h')))\n",
    "\n",
    "    assert len(dat_files) == len(h_files), \"Mismatch in number of .dat and .h files\"\n",
    "\n",
    "    data_list = []\n",
    "\n",
    "    for dat_file, h_file in zip(dat_files, h_files):\n",
    "        timestamp = get_obstime(dat_file)\n",
    "        timestamp2 = get_obstime(h_file)\n",
    "        if timestamp != timestamp2:\n",
    "            print(f\"Warning: timestamps do not match for {dat_file} and {h_file}\")\n",
    "        subband = get_subbands(h_file)\n",
    "\n",
    "        data_list.append({\n",
    "            \"timestamp\": timestamp,\n",
    "            \"subband\": subband,\n",
    "            \"dat_file\": dat_file,\n",
    "            \"h_file\": h_file\n",
    "        })\n",
    "\n",
    "    df = pd.DataFrame(data_list)\n",
    "    df = df.sort_values(by=[\"timestamp\", \"subband\"]).reset_index(drop=True)\n",
    "\n",
    "    average_measures_per_subband = round(df[\"subband\"].value_counts().mean(), 2)\n",
    "    measurement_duration = round((df[\"timestamp\"].max() - df[\"timestamp\"].min()).total_seconds() / len(df), 2) if len(df) > 1 else None\n",
    "\n",
    "    summary = {\n",
    "        \"number_of_files\": len(df),\n",
    "        \"subbands_available\": {\n",
    "            \"first_subband\": df[\"subband\"].min(),\n",
    "            \"last_subband\": df[\"subband\"].max(),\n",
    "            \"total_subbands\": len(df[\"subband\"].dropna().unique())\n",
    "        },\n",
    "        \"start_time\": df[\"timestamp\"].min(),\n",
    "        \"end_time\": df[\"timestamp\"].max(),\n",
    "        \"average_measures_per_subband\": average_measures_per_subband,\n",
    "        \"measurement_duration\": measurement_duration\n",
    "    }\n",
    "\n",
    "    return df, summary\n",
    "\n",
    "def print_summary(summary):\n",
    "    print(\"Summary of Analyzed Files:\")\n",
    "    print(f\"Number of files: {summary['number_of_files']}\")\n",
    "    print(f\"First and last subband: {summary['subbands_available']['first_subband']} - {summary['subbands_available']['last_subband']}\")\n",
    "    print(f\"Total subbands: {summary['subbands_available']['total_subbands']}\")\n",
    "    print(f\"Start time: {summary['start_time']}\")\n",
    "    print(f\"End time: {summary['end_time']}\")\n",
    "    print(f\"Average measurements per subband: {summary['average_measures_per_subband']}\")\n",
    "    print(f\"Average measurement duration: {summary['measurement_duration']} seconds\")\n",
    "\n",
    "\n",
    "def generate_video(sources, output_path, fps=10):\n",
    "    if not sources:\n",
    "        print(\"Image list is empty.\")\n",
    "        return\n",
    "\n",
    "    # Use the first image to get the size of the video\n",
    "    image = cv2.imread(sources[0])\n",
    "    if image is None:\n",
    "        print(f\"Error reading image: {sources[0]}. Aborting.\")\n",
    "        return\n",
    "\n",
    "    height, width, _ = image.shape\n",
    "\n",
    "    fourcc = cv2.VideoWriter_fourcc(*'mp4v')\n",
    "    out = cv2.VideoWriter(output_path, fourcc, fps, (width, height))\n",
    "\n",
    "    # Iterate through the images and write them to the video\n",
    "    for path in sources:\n",
    "        image = cv2.imread(path)\n",
    "        if image is None:\n",
    "            print(f\"Error reading image: {path}. It will be skipped.\")\n",
    "            continue\n",
    "        out.write(image)\n",
    "\n",
    "    out.release()\n",
    "    cv2.destroyAllWindows()\n",
    "\n",
    "\n",
    "def generate_video_from_list(list_path, output_path, fps=10):\n",
    "    with open(list_path, \"r\") as file:\n",
    "        sources = file.read().splitlines()\n",
    "    generate_video(sources, output_path, fps=fps)\n"
   ]
  },
  {
   "cell_type": "code",
   "execution_count": 7,
   "metadata": {},
   "outputs": [
    {
     "name": "stdout",
     "output_type": "stream",
     "text": [
      "Summary of Analyzed Files:\n",
      "Number of files: 12150\n",
      "First and last subband: 51 - 461\n",
      "Total subbands: 411\n",
      "Start time: 2023-01-11 07:12:56\n",
      "End time: 2023-01-11 13:57:54\n",
      "Average measurements per subband: 29.56\n",
      "Average measurement duration: 2.0 seconds\n"
     ]
    }
   ],
   "source": [
    "df, summary = analyze_files(obs_dir)\n",
    "print_summary(summary)\n",
    "#df"
   ]
  },
  {
   "cell_type": "code",
   "execution_count": null,
   "metadata": {},
   "outputs": [
    {
     "name": "stdout",
     "output_type": "stream",
     "text": [
      "Maximum of 65.35 dB at 88m east, -150m north of station center (lat/long 57.55553, 21.85639)\n",
      "Maximum of 65.33 dB at 86m east, -150m north of station center (lat/long 57.55553, 21.85636)\n",
      "Maximum of 65.35 dB at 66m east, -150m north of station center (lat/long 57.55553, 21.85602)\n",
      "Image generation complete.\n",
      "Video generation complete.\n"
     ]
    }
   ],
   "source": [
    "# Temporal evolution of the selected subbands: Generate images\n",
    "\n",
    "height = 1.5\n",
    "subbands = [200, 255, 400]\n",
    "subbands = [255]\n",
    "sky_video = []\n",
    "nf_video = []\n",
    "\n",
    "for subband in subbands:\n",
    "        subband_data = df[df['subband'] == subband].head(3)\n",
    "\n",
    "        # Generar the image\n",
    "        for index, row in subband_data.iterrows():\n",
    "            xst_filename = row['dat_file']\n",
    "            obstime = row['timestamp']\n",
    "\n",
    "            visibilities = read_acm_cube(xst_filename, station_type)[0]\n",
    "            #sky_fig, ground_fig, leaflet_map = make_xst_plots(visibilities, station_name, obstime, subband, rcu_mode, map_zoom=18, outputpath=temp_dir, mark_max_power=True, height=height)\n",
    "            sky_image_path, nf_image_path, _ = make_xst_plots(visibilities, station_name, obstime, subband, rcu_mode, map_zoom=18, outputpath=temp_dir, mark_max_power=True, height=height, return_only_paths=True)\n",
    "            sky_video.append(sky_image_path)\n",
    "            nf_video.append(nf_image_path)\n",
    "\n",
    "# Export the image lists for video generation\n",
    "with open(f\"{temp_dir}/sky_video_list.txt\", \"w\") as sky_file:\n",
    "    sky_file.write(\"\\n\".join(sky_video))\n",
    "\n",
    "with open(f\"{temp_dir}/nf_video_list.txt\", \"w\") as nf_file:\n",
    "    nf_file.write(\"\\n\".join(nf_video))\n",
    "\n",
    "print(\"Image generation complete.\")\n",
    "\n",
    "generate_video_from_list(f\"{temp_dir}/sky_video_list.txt\", f\"{output_dir}/sky_video.mp4\", fps=fps)\n",
    "generate_video_from_list(f\"{temp_dir}/nf_video_list.txt\", f\"{output_dir}/nf_video.mp4\", fps=fps)\n",
    "\n",
    "print(\"Video generation complete.\")"
   ]
  },
  {
   "cell_type": "code",
   "execution_count": null,
   "metadata": {},
   "outputs": [
    {
     "name": "stdout",
     "output_type": "stream",
     "text": [
      "results/video/temp\n",
      "Image generation complete.\n",
      "Video generation complete.\n"
     ]
    }
   ],
   "source": [
    "print(temp_dir)\n",
    "print(\"Image generation complete.\")\n",
    "\n",
    "\n",
    "generate_video_from_list(f\"{temp_dir}/nf_video_list.txt\", f\"{output_dir}/nf_video.mp4\", fps=fps)\n",
    "generate_video_from_list(f\"{temp_dir}/sky_video_list.txt\", f\"{output_dir}/sky_video.mp4\"    , fps=fps)\n",
    "print(\"Video generation complete.\")"
   ]
  },
  {
   "cell_type": "code",
   "execution_count": 10,
   "metadata": {},
   "outputs": [],
   "source": [
    "# Subband sweep at a given time\n",
    "obstime = df[\"timestamp\"].min()\n",
    "sky_video = []\n",
    "nf_video = []\n",
    "\n"
   ]
  },
  {
   "cell_type": "code",
   "execution_count": 11,
   "metadata": {},
   "outputs": [],
   "source": [
    "# Height sweep at a given time and subband"
   ]
  }
 ],
 "metadata": {
  "kernelspec": {
   "display_name": "venv",
   "language": "python",
   "name": "python3"
  },
  "language_info": {
   "codemirror_mode": {
    "name": "ipython",
    "version": 3
   },
   "file_extension": ".py",
   "mimetype": "text/x-python",
   "name": "python",
   "nbconvert_exporter": "python",
   "pygments_lexer": "ipython3",
   "version": "3.13.2"
  }
 },
 "nbformat": 4,
 "nbformat_minor": 4
}
